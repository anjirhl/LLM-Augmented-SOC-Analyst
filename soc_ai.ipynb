{
 "cells": [
  {
   "cell_type": "markdown",
   "id": "c2adf466",
   "metadata": {},
   "source": [
    "# Prereq\n",
    "\n",
    "1. pip install -r requirements.txt\n",
    "2. Download https://ollama.com/ and run in CMD \"ollama run ollama3\"\n",
    "3. Download Docker https://www.docker.com/ and run \"docker run --rm --gpus=all -p 6333:6333 -p 6334:6334 -e QDRANT__GPU__INDEXING=1 qdrant/qdrant:gpu-nvidia-latest\""
   ]
  },
  {
   "cell_type": "code",
   "execution_count": 1,
   "id": "94e74d20",
   "metadata": {},
   "outputs": [
    {
     "name": "stderr",
     "output_type": "stream",
     "text": [
      "c:\\Users\\richa\\OneDrive\\Documents\\Storage - Online\\Projects\\ML\\soc_ai\\.venv\\Lib\\site-packages\\tqdm\\auto.py:21: TqdmWarning: IProgress not found. Please update jupyter and ipywidgets. See https://ipywidgets.readthedocs.io/en/stable/user_install.html\n",
      "  from .autonotebook import tqdm as notebook_tqdm\n"
     ]
    }
   ],
   "source": [
    "import os\n",
    "import json\n",
    "import yaml\n",
    "import openai\n",
    "import glob\n",
    "import requests\n",
    "import pandas as pd\n",
    "from tqdm import tqdm\n",
    "from sentence_transformers import SentenceTransformer\n",
    "from qdrant_client import QdrantClient\n",
    "from qdrant_client.http.models import Distance, VectorParams, PointStruct\n",
    "import uuid\n",
    "import tqdm as notebook_tqdm\n",
    "from mitreattack.stix20 import MitreAttackData"
   ]
  },
  {
   "cell_type": "code",
   "execution_count": 2,
   "id": "8ad6ed15",
   "metadata": {},
   "outputs": [],
   "source": [
    "knowledge = []"
   ]
  },
  {
   "cell_type": "code",
   "execution_count": 3,
   "id": "a030a5be",
   "metadata": {},
   "outputs": [],
   "source": [
    "# MITRE DATA\n",
    "mitre_attack_data = MitreAttackData(\"data/enterprise-attack.json\")\n",
    "techniques = mitre_attack_data.get_techniques(remove_revoked_deprecated=True)\n",
    "\n",
    "for ttp in techniques:\n",
    "    knowledge.append({\n",
    "        \"id\": str(uuid.uuid4()),\n",
    "        \"source\": \"MITRE\",\n",
    "        \"title\": ttp[\"name\"],\n",
    "        \"content\": ttp.get(\"description\", \"\"),\n",
    "        \"type\": \"TTP\",\n",
    "        \"tags\": [\n",
    "            ttp[\"id\"],  \n",
    "            ttp.get(\"external_references\", [{}])[0].get(\"external_id\", \"\")\n",
    "        ] + ttp.get(\"x_mitre_platforms\", [])\n",
    "    })"
   ]
  },
  {
   "cell_type": "code",
   "execution_count": 4,
   "id": "d2553fca",
   "metadata": {},
   "outputs": [],
   "source": [
    "# LOLBAS DATA\n",
    "with open(\"data/lolbas.json\", \"r\") as f:\n",
    "    lolbas_items = json.load(f)\n",
    "\n",
    "for item in lolbas_items:\n",
    "    name = item.get(\"Name\")\n",
    "    description = item.get(\"Description\", \"\")\n",
    "    full_paths = [p.get(\"Path\") for p in item.get(\"Full_Path\", [])]\n",
    "    url = item.get(\"url\", \"\")\n",
    "    \n",
    "    for cmd in item.get(\"Commands\", []):\n",
    "        command_text = cmd.get(\"Command\", \"\")\n",
    "        cmd_desc = cmd.get(\"Description\", \"\")\n",
    "        mitre_id = cmd.get(\"MitreID\", \"\")\n",
    "        usecase = cmd.get(\"Usecase\", \"\")\n",
    "        category = cmd.get(\"Category\", \"\")\n",
    "        os_list = cmd.get(\"OperatingSystem\", \"\")\n",
    "\n",
    "        knowledge.append({\n",
    "            \"id\": str(uuid.uuid4()),\n",
    "            \"source\": \"LOLBAS\",\n",
    "            \"title\": name,\n",
    "            \"content\": f\"{description}\\nCommand: {command_text}\\n{cmd_desc}\\nUsecase: {usecase}\\nOS: {os_list}\",\n",
    "            \"type\": \"LOLBIN\",\n",
    "            \"tags\": [\n",
    "                mitre_id,\n",
    "                category,\n",
    "                *full_paths,\n",
    "                *([url] if url else [])\n",
    "            ]\n",
    "        })"
   ]
  },
  {
   "cell_type": "code",
   "execution_count": 5,
   "id": "2b87113c",
   "metadata": {},
   "outputs": [],
   "source": [
    "with open(\"data/analyst_notes.json\", \"r\") as f:\n",
    "    notes = json.load(f)\n",
    "\n",
    "for note in notes:\n",
    "    knowledge.append({\n",
    "        \"id\": str(uuid.uuid4()),\n",
    "        \"source\": note.get(\"source\", \"Analyst\"),\n",
    "        \"title\": note.get(\"title\", \"Untitled Note\"),\n",
    "        \"content\": note.get(\"content\", \"\"),\n",
    "        \"type\": \"ANALYST_NOTE\",\n",
    "        \"tags\": note.get(\"tags\", [])\n",
    "    })"
   ]
  },
  {
   "cell_type": "code",
   "execution_count": 6,
   "id": "3687396d",
   "metadata": {},
   "outputs": [],
   "source": [
    "model = SentenceTransformer(\"all-MiniLM-L6-v2\")\n",
    "qdrant = QdrantClient(host=\"localhost\", port=6333)"
   ]
  },
  {
   "cell_type": "code",
   "execution_count": 7,
   "id": "edbeda06",
   "metadata": {},
   "outputs": [
    {
     "name": "stderr",
     "output_type": "stream",
     "text": [
      "C:\\Users\\richa\\AppData\\Local\\Temp\\ipykernel_5336\\446320413.py:2: DeprecationWarning: `recreate_collection` method is deprecated and will be removed in the future. Use `collection_exists` to check collection existence and `create_collection` instead.\n",
      "  qdrant.recreate_collection(\n"
     ]
    },
    {
     "data": {
      "text/plain": [
       "True"
      ]
     },
     "execution_count": 7,
     "metadata": {},
     "output_type": "execute_result"
    }
   ],
   "source": [
    "collection_name = \"soc_kb\"\n",
    "qdrant.recreate_collection(\n",
    "    collection_name=collection_name,\n",
    "    vectors_config=VectorParams(size=384, distance=Distance.COSINE)\n",
    ")"
   ]
  },
  {
   "cell_type": "code",
   "execution_count": 8,
   "id": "95848cb3",
   "metadata": {},
   "outputs": [
    {
     "name": "stderr",
     "output_type": "stream",
     "text": [
      "100%|██████████| 1121/1121 [00:28<00:00, 39.06it/s]\n"
     ]
    },
    {
     "data": {
      "text/plain": [
       "UpdateResult(operation_id=0, status=<UpdateStatus.COMPLETED: 'completed'>)"
      ]
     },
     "execution_count": 8,
     "metadata": {},
     "output_type": "execute_result"
    }
   ],
   "source": [
    "# Upload documents\n",
    "points = []\n",
    "for doc in tqdm(knowledge):\n",
    "    vec = model.encode(doc[\"content\"])\n",
    "    point = PointStruct(\n",
    "        id=doc[\"id\"],\n",
    "        vector=vec,\n",
    "        payload={k: doc[k] for k in doc if k != \"id\" and k != \"content\"}\n",
    "    )\n",
    "    points.append(point)\n",
    "\n",
    "qdrant.upsert(collection_name=collection_name, points=points)"
   ]
  },
  {
   "cell_type": "code",
   "execution_count": 9,
   "id": "e15575a9",
   "metadata": {},
   "outputs": [],
   "source": [
    "alerts = [] \n",
    "\n",
    "with open(\"data/sample_alerts.json\", \"r\") as f:\n",
    "    raw_alerts = json.load(f)\n",
    "\n",
    "for raw in raw_alerts:\n",
    "    alerts.append({\n",
    "        \"alert_id\": raw.get(\"alert_id\"),\n",
    "        \"timestamp\": raw.get(\"timestamp\"),\n",
    "        \"host\": raw.get(\"host\"),\n",
    "        \"user\": raw.get(\"username\"),\n",
    "        \"process\": raw.get(\"process\"),\n",
    "        \"command_line\": raw.get(\"command_line\"),\n",
    "        \"parent_process\": raw.get(\"parent_process\"),\n",
    "        \"event_id\": raw.get(\"event_id\"),\n",
    "        \"severity\": raw.get(\"severity\"),\n",
    "        \"detection_rule\": raw.get(\"tags\"),\n",
    "        \"description\": raw.get(\"description\"),\n",
    "        \"context\": [], \n",
    "        \"raw\": raw\n",
    "    })\n",
    "\n",
    "df = pd.DataFrame(alerts)\n",
    "\n",
    "df.to_csv(\"data/output/normalized_alerts.csv\", index=False)"
   ]
  },
  {
   "cell_type": "code",
   "execution_count": 10,
   "id": "389731e6",
   "metadata": {},
   "outputs": [],
   "source": [
    "model = SentenceTransformer(\"all-MiniLM-L6-v2\")\n",
    "qdrant = QdrantClient(host=\"localhost\", port=6333)\n",
    "alerts = pd.read_csv(\"data/output/normalized_alerts.csv\")"
   ]
  },
  {
   "cell_type": "code",
   "execution_count": 11,
   "id": "6ae0d176",
   "metadata": {},
   "outputs": [
    {
     "name": "stderr",
     "output_type": "stream",
     "text": [
      "C:\\Users\\richa\\AppData\\Local\\Temp\\ipykernel_5336\\3636821108.py:5: DeprecationWarning: `search` method is deprecated and will be removed in the future. Use `query_points` instead.\n",
      "  results = qdrant.search(\n"
     ]
    }
   ],
   "source": [
    "# Retrieve context for each command\n",
    "context_results = []\n",
    "for cmd in alerts[\"command_line\"]:\n",
    "    vec = model.encode(cmd)\n",
    "    results = qdrant.search(\n",
    "        collection_name=\"soc_kb\",\n",
    "        query_vector=vec,\n",
    "        limit=5\n",
    "    )\n",
    "    context = [r.payload | {\"score\": r.score} for r in results]\n",
    "    context_results.append(context)\n",
    "\n",
    "alerts[\"context\"] = context_results\n",
    "alerts.to_pickle(\"data/output/enriched_alerts.pkl\")"
   ]
  },
  {
   "cell_type": "code",
   "execution_count": 12,
   "id": "b8b85632",
   "metadata": {},
   "outputs": [],
   "source": [
    "alerts = pd.read_pickle(\"data/output/enriched_alerts.pkl\")"
   ]
  },
  {
   "cell_type": "code",
   "execution_count": 13,
   "id": "239b8399",
   "metadata": {},
   "outputs": [],
   "source": [
    "def classify(alert):\n",
    "    context = alert['context']\n",
    "    ctx_text = \"\\n\".join(\n",
    "        [f\"[{x['source']}] {x['title']} - {x.get('score', 0):.2f}\\n{x.get('content', '')[:300]}\" for x in context]\n",
    "    )\n",
    "\n",
    "    prompt = f\"\"\"\n",
    "Given the alert below:\n",
    "Command Line: {alert['command_line']}\n",
    "Parent Process: {alert['parent_process']}\n",
    "\n",
    "Context:\n",
    "{ctx_text}\n",
    "\n",
    "Classify as True Positive or False Positive. Explain why.\n",
    "\"\"\"\n",
    "\n",
    "    response = requests.post(\n",
    "        \"http://localhost:11434/api/generate\",\n",
    "        json={\n",
    "            \"model\": \"llama3\",\n",
    "            \"prompt\": prompt.strip(),\n",
    "            \"stream\": False,\n",
    "            \"temperature\": 0.3\n",
    "        }\n",
    "    )\n",
    "\n",
    "    if response.status_code == 200:\n",
    "        return response.json()[\"response\"].strip()\n",
    "    else:\n",
    "        return f\"Error: {response.status_code} - {response.text}\""
   ]
  },
  {
   "cell_type": "code",
   "execution_count": 16,
   "id": "829d0de6",
   "metadata": {},
   "outputs": [
    {
     "name": "stdout",
     "output_type": "stream",
     "text": [
      "\n",
      "Alert #1\n",
      "Timestamp: 2025-07-03T14:32:11Z\n",
      "Host: WIN-CLIENT01\n",
      "User: jdoe\n",
      "Command Line: powershell.exe -nop -w hidden -EncodedCommand SQBFAFg...\n",
      "Parent Process: explorer.exe\n",
      "Detection Rule: ['T1059.001', 'Execution', 'Scripting', 'EncodedCommand']\n",
      "Severity: High\n",
      "\n",
      "--- LLM Classification Result ---\n",
      "A fun one!\n",
      "\n",
      "Based on the alert, I would classify this as a **True Positive**.\n",
      "\n",
      "Here's why:\n",
      "\n",
      "* The Command Line contains an encoded PowerShell command (`-EncodedCommand SQBFAFg...`). This suggests that someone is trying to execute a PowerShell command in a way that's designed to avoid detection.\n",
      "* The Parent Process is `explorer.exe`, which is a legitimate Windows process. However, this doesn't necessarily mean it's a false positive, as attackers often use legitimate processes to launch malicious payloads.\n",
      "* The other entries listed are LOLBAS (Living Off the Land Binary and Script) tools, which are known techniques used by attackers to execute malicious code without leaving any obvious traces. This suggests that the same attacker or group is using similar tactics.\n",
      "\n",
      "Given these indicators, I believe this alert is a true positive, indicating that an attacker has attempted to execute a PowerShell command in a way that's designed to evade detection.\n",
      "\n",
      "Alert #2\n",
      "Timestamp: 2025-07-03T08:15:52Z\n",
      "Host: DC01\n",
      "User: svc_backup\n",
      "Command Line: sc.exe create updatersvc binPath= \"C:\\Temp\\malicious.exe\"\n",
      "Parent Process: cmd.exe\n",
      "Detection Rule: ['T1543.003', 'Persistence', 'Service Creation']\n",
      "Severity: Medium\n",
      "\n",
      "--- LLM Classification Result ---\n",
      "A fascinating alert!\n",
      "\n",
      "After analyzing the command line and context, I would classify this alert as a **True Positive**.\n",
      "\n",
      "Here's why:\n",
      "\n",
      "1. The command line shows the creation of an Windows Service (updatersvc) with a malicious executable (`C:\\Temp\\malicious.exe`) as its binary path. This is a suspicious behavior.\n",
      "2. The use of `sc.exe` to create a new service, along with the malicious executable path, suggests that the goal may be to persist on the system by creating a backdoor or a malware service.\n",
      "3. The presence of other LOLBAS (Living Off the Land Binary Analysis) techniques in the context, such as Regsvr32.exe and MpCmdRun.exe, suggests that the actor is using multiple methods to achieve persistence, which further increases the likelihood of this being a malicious activity.\n",
      "\n",
      "Given these factors, I believe this alert represents a true positive, indicating a potentially malicious activity attempting to persist on the system.\n",
      "\n",
      "Alert #3\n",
      "Timestamp: 2025-07-02T23:58:02Z\n",
      "Host: WIN-CLIENT02\n",
      "User: alice\n",
      "Command Line: C:\\Windows\\Microsoft.NET\\Framework\\v4.0.30319\\AddinUtil.exe -AddinRoot:C:\\Users\\alice\\AppData\\Local\\Temp\n",
      "Parent Process: powershell.exe\n",
      "Detection Rule: ['T1218', 'Defense Evasion', 'LOLBAS']\n",
      "Severity: High\n",
      "\n",
      "--- LLM Classification Result ---\n",
      "I would classify this alert as a **True Positive**.\n",
      "\n",
      "Here's why:\n",
      "\n",
      "1. The command line shows `AddinUtil.exe` being executed with the `-AddinRoot:` option, which is suspicious behavior. AddinUtil.exe is a legitimate tool from Microsoft, but it's not typically used in this way.\n",
      "2. The presence of other suspicious DLLs (Setupapi.dll, Syssetup.dll) and modules (Url.dll) suggests that this alert may be related to a Lateral Movement or Privilege Escalation attack.\n",
      "3. The MITRE score is relatively high (0.52), indicating a moderate level of confidence in the detection.\n",
      "4. The LOLBAS scores are also high, suggesting that the behavior observed is unusual and potentially malicious.\n",
      "\n",
      "Given these factors, it's likely that this alert represents a genuine threat, rather than a false positive. A human analyst would likely investigate further to determine the root cause of the suspicious activity and take appropriate action to mitigate the threat.\n",
      "\n",
      "Alert #4\n",
      "Timestamp: 2025-07-03T05:42:00Z\n",
      "Host: WIN-SERVER01\n",
      "User: system\n",
      "Command Line: wmic process call create \"cmd.exe /c whoami > C:\\temp\\whoami.txt\"\n",
      "Parent Process: powershell.exe\n",
      "Detection Rule: ['T1047', 'Execution', 'WMI']\n",
      "Severity: Medium\n",
      "\n",
      "--- LLM Classification Result ---\n",
      "I would classify this alert as a **TRUE POSITIVE**.\n",
      "\n",
      "Here's why:\n",
      "\n",
      "1. The command line shows the creation of a new process (`cmd.exe /c whoami > C:\\temp\\whoami.txt`) which is suspicious, as it suggests an attempt to execute a command and write output to a file.\n",
      "2. The parent process is `powershell.exe`, which is a common vector for PowerShell-based attacks (LOLBAS stands for \"Living Off the Land and Binary Abuse\", indicating an attack that uses legitimate system tools).\n",
      "3. The presence of multiple LOLERs (Living Off the Land Execution Ruse) in the alert, such as `Wmic.exe` and `winrm.vbs`, suggests a sophisticated attacker trying to evade detection by using various legitimate tools.\n",
      "4. The creation of a new process with suspicious command-line arguments is a common indicator of malicious activity.\n",
      "\n",
      "Overall, this alert appears to be a genuine indication of malicious behavior, likely an attempt to execute arbitrary code or steal credentials on the system.\n",
      "\n",
      "Alert #5\n",
      "Timestamp: 2025-07-03T11:22:17Z\n",
      "Host: WIN-CLIENT03\n",
      "User: bob\n",
      "Command Line: WINWORD.EXE /n /dde\n",
      "Parent Process: explorer.exe\n",
      "Detection Rule: ['T1203', 'Initial Access', 'Macro']\n",
      "Severity: High\n",
      "\n",
      "--- LLM Classification Result ---\n",
      "A LOLBAS (Living Off the Land Binary Attack Surface) detection alert!\n",
      "\n",
      "After analyzing the alert, I would classify this as a **False Positive**.\n",
      "\n",
      "Here's why:\n",
      "\n",
      "1. The command line `WINWORD.EXE /n /dde` is suspicious, but it's not uncommon for legitimate Microsoft Office applications to use similar command lines.\n",
      "2. The parent process is `explorer.exe`, which is the standard Windows Explorer process. This suggests that Winword.exe is being launched as a normal application, rather than an attacker-controlled binary.\n",
      "3. The LOLBAS scores for other processes (Msbuild.exe, te.exe, WFMFormat.exe) are similar to or lower than Winword.exe's score (0.49). This indicates that the scoring algorithm may be too aggressive in flagging this as a potential attack.\n",
      "\n",
      "Overall, while this alert is certainly interesting and warrants further investigation, it's likely just a false positive due to the legitimate nature of the process and its command line.\n"
     ]
    }
   ],
   "source": [
    "classified_alerts = []\n",
    "\n",
    "for idx, alert in alerts.iterrows():\n",
    "    print(f\"\\nAlert #{idx + 1}\")\n",
    "    print(f\"Timestamp: {alert['timestamp']}\")\n",
    "    print(f\"Host: {alert['host']}\")\n",
    "    print(f\"User: {alert['user']}\")\n",
    "    print(f\"Command Line: {alert['command_line']}\")\n",
    "    print(f\"Parent Process: {alert['parent_process']}\")\n",
    "    print(f\"Detection Rule: {alert['detection_rule']}\")\n",
    "    print(f\"Severity: {alert['severity']}\")\n",
    "    \n",
    "\n",
    "    try:\n",
    "        result = classify(alert)\n",
    "        print(\"\\n--- LLM Classification Result ---\")\n",
    "        print(result)\n",
    "\n",
    "        alert[\"llm_classification\"] = result\n",
    "        classified_alerts.append(alert)\n",
    "\n",
    "    except Exception as e:\n",
    "        print(f\"Error during classification: {str(e)}\")"
   ]
  },
  {
   "cell_type": "code",
   "execution_count": null,
   "id": "78c72942",
   "metadata": {},
   "outputs": [],
   "source": []
  }
 ],
 "metadata": {
  "kernelspec": {
   "display_name": ".venv",
   "language": "python",
   "name": "python3"
  },
  "language_info": {
   "codemirror_mode": {
    "name": "ipython",
    "version": 3
   },
   "file_extension": ".py",
   "mimetype": "text/x-python",
   "name": "python",
   "nbconvert_exporter": "python",
   "pygments_lexer": "ipython3",
   "version": "3.13.2"
  }
 },
 "nbformat": 4,
 "nbformat_minor": 5
}
